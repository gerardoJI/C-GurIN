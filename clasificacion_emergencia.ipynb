{
 "cells": [
  {
   "cell_type": "markdown",
   "metadata": {},
   "source": [
    "# Clasificación de emergencias mediante OPEN AI\n",
    "En este notebook se muestra el proceso de análisis del archivo .json generado durante el análisis de sonido, con las características acústicas y datos principales del audio de voz. \n",
    "En el proceso se utiliza la tecnología de OPEN AI, para hacer un llamado a Chat GTP 4o, en el que se presenta la información del archivo de audio, y se solicita como resultado la identificación de una emergencia y su clasificación."
   ]
  },
  {
   "cell_type": "code",
   "execution_count": 15,
   "metadata": {},
   "outputs": [],
   "source": [
    "from openai import OpenAI\n",
    "import json\n",
    "import os\n",
    "from dotenv import load_dotenv\n",
    "\n",
    "# Caragar archivo .env con el api_key\n",
    "load_dotenv()\n",
    "\n",
    "# Obtener la clave API \n",
    "api_key = os.getenv(\"api_key_openai\")\n",
    "if not api_key:\n",
    "    raise ValueError(\"The 'api_key' environment variable is not defined in the .env file.\")\n",
    "\n",
    "# Configura tu clave API de OpenAI aquí\n",
    "client=OpenAI(api_key=api_key)\n",
    "\n",
    "# Función para utilizar GPT-4 y analizar el texto\n",
    "def analizar_emergencia_con_gpt(data):\n",
    "    \n",
    "    try:\n",
    "        # Abrir el archivo JSON y cargar los datos\n",
    "        with open(archivo_json, 'r') as f:\n",
    "            data = json.load(f)  # Cargar el archivo JSON como un diccionario\n",
    "    except json.JSONDecodeError:\n",
    "        # Si el archivo JSON no es válido o está mal formado\n",
    "        print(\"Error al leer el archivo JSON. Asegúrate de que el archivo esté correctamente formado.\")\n",
    "        return []  # Devolver una lista vacía en caso de error\n",
    "    except FileNotFoundError:\n",
    "        # Si el archivo no es encontrado\n",
    "        print(f\"El archivo {archivo_json} no fue encontrado.\")\n",
    "        return []  # Devolver una lista vacía en caso de error\n",
    "\n",
    "    try:\n",
    "        # Llamada a la API de OpenAI para analizar el mensaje usando el endpoint de chat\n",
    "\n",
    "        response = client.chat.completions.create(\n",
    "        model=\"gpt-4o\",\n",
    "        messages=[\n",
    "    {\n",
    "      \"role\": \"system\",\n",
    "      \"content\": [\n",
    "        {\n",
    "          \"type\": \"text\",\n",
    "          \"text\": \"Eres un asistente que clasifica mensajes de emergencia para un chatbot de seguridad en minería subterránea.\\n\\nPor ejemplo:\\n- {\\\"nombre_audio\\\":\\\"voice_message.wav\\\",\\\"texto\\\":\\\" En el revaje de la rampa 5 hay un incendio para donde corremos, dinos r\\\\u00e1pido hacia donde corremos.\\\",\\\"idioma_audio\\\":\\\"es\\\",\\\"palabras\\\":18,\\\"duracion\\\":5.44,\\\"tempo\\\":95.703125,\\\"zcr\\\":0.0752368684,\\\"energia\\\":1135.146484375,\\\"picos_env\\\":2.444185257,\\\"estres\\\":1} respuesta: {emergencia:1, tipo:incendio}\\n\\nOtro ejemplo:\\n- {\\\"nombre_audio\\\":\\\"voice_message.wav\\\",\\\"texto\\\":\\\" Est\\\\u00e1 saliendo humo de un tubo. Eso es normal, ayuda.\\\",\\\"idioma_audio\\\":\\\"es\\\",\\\"palabras\\\":10,\\\"duracion\\\":5.6135147392,\\\"tempo\\\":135.9991776316,\\\"zcr\\\":0.0468205223,\\\"energia\\\":365.2601318359,\\\"picos_env\\\":1.7363413572,\\\"estres\\\":0} respuesta: {emergencia:1, tipo:incendio}\\n\\nOtro ejemplo:\\n- {\\\"nombre_audio\\\":\\\"voice_message.wav\\\",\\\"texto\\\":\\\" Hay un compañero tirado en el rebaje, que hago.\\\",\\\"idioma_audio\\\":\\\"es\\\",\\\"palabras\\\":9,\\\"duracion\\\":5.6135147392,\\\"tempo\\\":135.9991776316,\\\"zcr\\\":0.0468205223,\\\"energia\\\":365.2601318359,\\\"picos_env\\\":1.7363413572,\\\"estres\\\":1} respuesta: {emergencia:1, tipo: salud general}\\n\\nOtro ejemplo:\\n- {\\\"nombre_audio\\\":\\\"voice_message.wav\\\",\\\"texto\\\":\\\" Necesito encontrar un baño, es una emergencia.\\\",\\\"idioma_audio\\\":\\\"es\\\",\\\"palabras\\\":7,\\\"duracion\\\":5.6135147392,\\\"tempo\\\":135.9991776316,\\\"zcr\\\":0.0468205223,\\\"energia\\\":365.2601318359,\\\"picos_env\\\":1.7363413572,\\\"estres\\\":1} respuesta: {emergencia:0, tipo: no_emergencia, idioma:es}\\n\\nOtro ejemplo:\\n- {\\\"nombre_audio\\\":\\\"voice_message.wav\\\",\\\"texto\\\":\\\" Las bombas centrales de agua se apagaron.\\\",\\\"idioma_audio\\\":\\\"es\\\",\\\"palabras\\\":7,\\\"duracion\\\":5.6135147392,\\\"tempo\\\":135.9991776316,\\\"zcr\\\":0.0468205223,\\\"energia\\\":365.2601318359,\\\"picos_env\\\":1.7363413572,\\\"estres\\\":0} respuesta: {emergencia:1, tipo: inundación, idioma:es}\\n\\nOtro ejemplo:\\n- {\\\"nombre_audio\\\":\\\"voice_message.wav\\\",\\\"texto\\\":\\\"Que hago si hay fuego en el taller y sale mucho humo.\\\",\\\"idioma_audio\\\":\\\"es\\\",\\\"palabras\\\":7,\\\"duracion\\\":5.6135147392,\\\"tempo\\\":135.9991776316,\\\"zcr\\\":0.0468205223,\\\"energia\\\":365.2601318359,\\\"picos_env\\\":1.7363413572,\\\"estres\\\":0} respuesta: {emergencia:0, tipo: no_emergencia, idioma:es}\" \n",
    "        }\n",
    "      ]\n",
    "    },\n",
    "    {\n",
    "      \"role\": \"user\",\n",
    "      \"content\": [\n",
    "        {\n",
    "          \"type\": \"text\",\n",
    "          \"text\": f\"Clasifica el siguiente mensaje de voz como una emergencia o no emergencia. Si es una emergencia, identifica el tipo (por ejemplo, incendio, inundación, caída de roca, enfermedad general, etc. Además, incluye el idioma del texto) {data}\"\n",
    "        }\n",
    "            ]\n",
    "            }\n",
    "        ],\n",
    "        response_format={\n",
    "            \"type\": \"text\"\n",
    "        },\n",
    "        temperature=1,\n",
    "        max_completion_tokens=2048,\n",
    "        top_p=1,\n",
    "        frequency_penalty=0,\n",
    "        presence_penalty=0\n",
    "        )\n",
    "\n",
    "        # Obtener la respuesta generada por GPT-4\n",
    "        respuesta = response.choices[0].message.content  # Extraer la respuesta de la API\n",
    "        return respuesta\n",
    "    except Exception as e:\n",
    "        print(f\"Error al procesar la API de OpenAI: {e}\")\n",
    "        return \"\"\n",
    "\n",
    "# Función para procesar el archivo JSON y obtener resultados\n",
    "def procesar_archivo_json(archivo_json):\n",
    "    try:\n",
    "        with open(archivo_json, 'r') as f:\n",
    "            data = json.load(f)  # Cargar el JSON como un diccionario único\n",
    "    except json.JSONDecodeError:\n",
    "        print(\"Error al leer el archivo JSON. Asegúrate de que el archivo esté correctamente formado.\")\n",
    "        return []\n",
    "    except FileNotFoundError:\n",
    "        print(f\"El archivo {archivo_json} no fue encontrado.\")\n",
    "        return []\n",
    "\n",
    "    # Analizar el texto usando GPT-4\n",
    "    resultado_gpt = analizar_emergencia_con_gpt(data)\n",
    "    return resultado_gpt\n",
    "\n",
    "# Ejecutar la función con el archivo JSON\n",
    "archivo_json = 'audios_data.json'  # Ruta del archivo JSON\n",
    "respuesta = procesar_archivo_json(archivo_json)\n",
    "\n",
    "# Guardar los resultados en una variable\n",
    "resultado_final = respuesta\n"
   ]
  },
  {
   "cell_type": "markdown",
   "metadata": {},
   "source": [
    "Finalmente, se imprime el diccionario que almacena el resultado de la clasificación"
   ]
  },
  {
   "cell_type": "code",
   "execution_count": 16,
   "metadata": {},
   "outputs": [
    {
     "data": {
      "text/plain": [
       "'{emergencia: 1, tipo: incendio, idioma: es}'"
      ]
     },
     "execution_count": 16,
     "metadata": {},
     "output_type": "execute_result"
    }
   ],
   "source": [
    "resultado_final"
   ]
  },
  {
   "cell_type": "code",
   "execution_count": null,
   "metadata": {},
   "outputs": [],
   "source": [
    "def clasificar_emergencia(archivo_json):\n",
    "    from openai import OpenAI\n",
    "    import json\n",
    "    import os\n",
    "    from dotenv import load_dotenv\n",
    "    # Cargar archivo .env con el api_key\n",
    "    load_dotenv()\n",
    "\n",
    "    # Obtener la clave API\n",
    "    api_key = os.getenv(\"api_key_openai\")\n",
    "    if not api_key:\n",
    "        raise ValueError(\"The 'api_key' environment variable is not defined in the .env file.\")\n",
    "\n",
    "    # Configura tu clave API de OpenAI aquí\n",
    "    client = OpenAI(api_key=api_key)\n",
    "\n",
    "    try:\n",
    "        # Abrir el archivo JSON y cargar los datos\n",
    "        with open(archivo_json, 'r') as f:\n",
    "            data = json.load(f)  # Cargar el archivo JSON como un diccionario\n",
    "    except json.JSONDecodeError:\n",
    "        # Si el archivo JSON no es válido o está mal formado\n",
    "        print(\"Error al leer el archivo JSON. Asegúrate de que el archivo esté correctamente formado.\")\n",
    "        return []\n",
    "    except FileNotFoundError:\n",
    "        # Si el archivo no es encontrado\n",
    "        print(f\"El archivo {archivo_json} no fue encontrado.\")\n",
    "        return []\n",
    "\n",
    "    try:\n",
    "        # Llamada a la API de OpenAI para analizar el mensaje usando el endpoint de chat\n",
    "        response = client.chat.completions.create(\n",
    "            model=\"gpt-4o\",\n",
    "            messages=[\n",
    "                {\n",
    "                    \"role\": \"system\",\n",
    "                    \"content\": [\n",
    "                        {\n",
    "                            \"type\": \"text\",\n",
    "                            \"text\": \"Eres un asistente que clasifica mensajes de emergencia para un chatbot de seguridad en minería subterránea.\\n\\nPor ejemplo:\\n- {\\\"nombre_audio\\\":\\\"voice_message.wav\\\",\\\"texto\\\":\\\" En el revaje de la rampa 5 hay un incendio para donde corremos, dinos r\\\\u00e1pido hacia donde corremos.\\\",\\\"idioma_audio\\\":\\\"es\\\",\\\"palabras\\\":18,\\\"duracion\\\":5.44,\\\"tempo\\\":95.703125,\\\"zcr\\\":0.0752368684,\\\"energia\\\":1135.146484375,\\\"picos_env\\\":2.444185257,\\\"estres\\\":1} respuesta: {emergencia:1, tipo:incendio}\\n\\nOtro ejemplo:\\n- {\\\"nombre_audio\\\":\\\"voice_message.wav\\\",\\\"texto\\\":\\\" Est\\\\u00e1 saliendo humo de un tubo. Eso es normal, ayuda.\\\",\\\"idioma_audio\\\":\\\"es\\\",\\\"palabras\\\":10,\\\"duracion\\\":5.6135147392,\\\"tempo\\\":135.9991776316,\\\"zcr\\\":0.0468205223,\\\"energia\\\":365.2601318359,\\\"picos_env\\\":1.7363413572,\\\"estres\\\":0} respuesta: {emergencia:1, tipo:incendio}\\n\\nOtro ejemplo:\\n- {\\\"nombre_audio\\\":\\\"voice_message.wav\\\",\\\"texto\\\":\\\" Hay un compañero tirado en el rebaje, que hago.\\\",\\\"idioma_audio\\\":\\\"es\\\",\\\"palabras\\\":9,\\\"duracion\\\":5.6135147392,\\\"tempo\\\":135.9991776316,\\\"zcr\\\":0.0468205223,\\\"energia\\\":365.2601318359,\\\"picos_env\\\":1.7363413572,\\\"estres\\\":1} respuesta: {emergencia:1, tipo: salud general}\\n\\nOtro ejemplo:\\n- {\\\"nombre_audio\\\":\\\"voice_message.wav\\\",\\\"texto\\\":\\\" Necesito encontrar un baño, es una emergencia.\\\",\\\"idioma_audio\\\":\\\"es\\\",\\\"palabras\\\":7,\\\"duracion\\\":5.6135147392,\\\"tempo\\\":135.9991776316,\\\"zcr\\\":0.0468205223,\\\"energia\\\":365.2601318359,\\\"picos_env\\\":1.7363413572,\\\"estres\\\":1} respuesta: {emergencia:0, tipo: no_emergencia, idioma:es}\\n\\nOtro ejemplo:\\n- {\\\"nombre_audio\\\":\\\"voice_message.wav\\\",\\\"texto\\\":\\\" Las bombas centrales de agua se apagaron.\\\",\\\"idioma_audio\\\":\\\"es\\\",\\\"palabras\\\":7,\\\"duracion\\\":5.6135147392,\\\"tempo\\\":135.9991776316,\\\"zcr\\\":0.0468205223,\\\"energia\\\":365.2601318359,\\\"picos_env\\\":1.7363413572,\\\"estres\\\":0} respuesta: {emergencia:1, tipo: inundación, idioma:es}\\n\\nOtro ejemplo:\\n- {\\\"nombre_audio\\\":\\\"voice_message.wav\\\",\\\"texto\\\":\\\"Que hago si hay fuego en el taller y sale mucho humo.\\\",\\\"idioma_audio\\\":\\\"es\\\",\\\"palabras\\\":7,\\\"duracion\\\":5.6135147392,\\\"tempo\\\":135.9991776316,\\\"zcr\\\":0.0468205223,\\\"energia\\\":365.2601318359,\\\"picos_env\\\":1.7363413572,\\\"estres\\\":0} respuesta: {emergencia:0, tipo: no_emergencia, idioma:es}\"\n",
    "                        }\n",
    "                    ]\n",
    "                },\n",
    "                {\n",
    "                    \"role\": \"user\",\n",
    "                    \"content\": [\n",
    "                        {\n",
    "                            \"type\": \"text\",\n",
    "                            \"text\": f\"Clasifica el siguiente mensaje de voz como una emergencia o no emergencia. Si es una emergencia, identifica el tipo (por ejemplo, incendio, inundación, caída de roca, enfermedad general, etc. Además, incluye el idioma del texto) {data}\"\n",
    "                        }\n",
    "                    ]\n",
    "                }\n",
    "            ],\n",
    "            response_format={\"type\": \"text\"},\n",
    "            temperature=1,\n",
    "            max_completion_tokens=2048,\n",
    "            top_p=1,\n",
    "            frequency_penalty=0,\n",
    "            presence_penalty=0\n",
    "        )\n",
    "\n",
    "        # Obtener la respuesta generada por GPT-4\n",
    "        respuesta = response.choices[0].message.content  # Extraer la respuesta de la API\n",
    "        return respuesta\n",
    "    except Exception as e:\n",
    "        print(f\"Error al procesar la API de OpenAI: {e}\")\n",
    "        return \"\""
   ]
  },
  {
   "cell_type": "code",
   "execution_count": 17,
   "metadata": {},
   "outputs": [],
   "source": [
    "from funciones import clasificar_emergencia\n",
    "\n",
    "# Llamar la función con la ruta del archivo JSON\n",
    "archivo_json = 'audios_data.json'  # Ruta del archivo JSON\n",
    "respuesta = clasificar_emergencia(archivo_json)\n"
   ]
  },
  {
   "cell_type": "code",
   "execution_count": 18,
   "metadata": {},
   "outputs": [
    {
     "data": {
      "text/plain": [
       "'{emergencia:1, tipo:incendio, idioma:es}'"
      ]
     },
     "execution_count": 18,
     "metadata": {},
     "output_type": "execute_result"
    }
   ],
   "source": [
    "respuesta"
   ]
  }
 ],
 "metadata": {
  "kernelspec": {
   "display_name": "cgurin",
   "language": "python",
   "name": "python3"
  },
  "language_info": {
   "codemirror_mode": {
    "name": "ipython",
    "version": 3
   },
   "file_extension": ".py",
   "mimetype": "text/x-python",
   "name": "python",
   "nbconvert_exporter": "python",
   "pygments_lexer": "ipython3",
   "version": "3.11.11"
  }
 },
 "nbformat": 4,
 "nbformat_minor": 2
}
